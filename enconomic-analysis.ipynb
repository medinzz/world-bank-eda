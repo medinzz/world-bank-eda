{
 "cells": [
  {
   "cell_type": "code",
   "execution_count": 7,
   "metadata": {},
   "outputs": [],
   "source": [
    "import requests \n",
    "import pandas as pd"
   ]
  },
  {
   "cell_type": "code",
   "execution_count": 59,
   "metadata": {},
   "outputs": [],
   "source": [
    "base_url = 'https://api.worldbank.org/v2/'\n",
    "\n",
    "def get_countries():\n",
    "    url = base_url + 'country'\n",
    "    params = {\n",
    "        'format': 'json',\n",
    "        'per_page': '1000'\n",
    "    }\n",
    "\n",
    "    response = requests.get(url, params)\n",
    "\n",
    "    if response.status_code == 200:\n",
    "        data = response.json()\n",
    "    return data[1]\n",
    "\n",
    "countries = pd.DataFrame(get_countries())"
   ]
  },
  {
   "cell_type": "code",
   "execution_count": 60,
   "metadata": {},
   "outputs": [],
   "source": [
    "countries['region_id'] = countries['region'].apply(lambda x: x['id'])\n",
    "countries['region_name'] = countries['region'].apply(lambda x: x['value'])\n",
    "countries = countries.drop(columns='region')\n"
   ]
  },
  {
   "cell_type": "code",
   "execution_count": 63,
   "metadata": {},
   "outputs": [
    {
     "name": "stdout",
     "output_type": "stream",
     "text": [
      "region_id\n",
      "NA     79\n",
      "ECS    58\n",
      "SSF    48\n",
      "LCN    42\n",
      "EAS    37\n",
      "MEA    21\n",
      "SAS     8\n",
      "NAC     3\n",
      "Name: count, dtype: int64\n"
     ]
    }
   ],
   "source": [
    "\n",
    "countries_per_region = countries['region_id'].value_counts()\n",
    "print(countries_per_region)\n"
   ]
  }
 ],
 "metadata": {
  "kernelspec": {
   "display_name": "env",
   "language": "python",
   "name": "env"
  },
  "language_info": {
   "codemirror_mode": {
    "name": "ipython",
    "version": 3
   },
   "file_extension": ".py",
   "mimetype": "text/x-python",
   "name": "python",
   "nbconvert_exporter": "python",
   "pygments_lexer": "ipython3",
   "version": "3.10.12"
  }
 },
 "nbformat": 4,
 "nbformat_minor": 2
}
