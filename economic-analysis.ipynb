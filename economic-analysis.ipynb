{
 "cells": [
  {
   "cell_type": "markdown",
   "metadata": {},
   "source": [
    "Simple ETL process for getting data from world bank"
   ]
  },
  {
   "cell_type": "code",
   "execution_count": null,
   "metadata": {},
   "outputs": [],
   "source": [
    "# Defining required libraries and variables\n",
    "import requests \n",
    "import pandas as pd\n",
    "\n",
    "from pandas_gbq import to_gbq\n",
    "\n",
    "project_id = 'complete-trees-452014-g4'\n",
    "dataset_id = 'world_bank'\n",
    "base_url = 'https://api.worldbank.org/v2/'\n",
    "\n",
    "def get_wb_data(endpoint, params={}):\n",
    "    url = base_url + endpoint\n",
    "    parameters = params | {'format': 'json'} # Extend the parameters to keep response in json format\n",
    "\n",
    "    response = requests.get(url, parameters)\n",
    "\n",
    "    if response.status_code == 200:\n",
    "        data = response.json()\n",
    "    else:\n",
    "        return response\n",
    "    return data[1]"
   ]
  },
  {
   "cell_type": "code",
   "execution_count": null,
   "metadata": {},
   "outputs": [],
   "source": [
    "# EXTRACT: getting countries data\n",
    "countries = pd.DataFrame(get_wb_data(\n",
    "    endpoint='country', \n",
    "    params={'per_page': '1000'}\n",
    "))\n",
    "\n",
    "# TRANSFORM: transforming column names\n",
    "countries.columns = countries.columns.str.lower()\n",
    "\n",
    "#LOAD: load the data into bigquery table\n",
    "table_id = 'countries' # Table name\n",
    "to_gbq(countries, f'{dataset_id}.{table_id}', project_id=project_id, if_exists='replace')\n"
   ]
  },
  {
   "cell_type": "code",
   "execution_count": 81,
   "metadata": {},
   "outputs": [],
   "source": [
    "economic_indicators = pd.DataFrame(get_wb_data(\n",
    "    'country/indicator/NY.GDP.MKTP.CD;FP.CPI.TOTL.ZG;SL.UEM.TOTL.ZS',\n",
    "    {\n",
    "        'source': '2',\n",
    "        'date': '2000:2025',\n",
    "        'per_page': '20000'\n",
    "    }\n",
    "))\n",
    "\n",
    "economic_indicators.columns.str.lower()\n",
    "\n",
    "table_id = 'economic_indicators' # Table name\n",
    "to_gbq(countries, f'{dataset_id}.{table_id}', project_id=project_id, if_exists='replace')"
   ]
  },
  {
   "cell_type": "code",
   "execution_count": null,
   "metadata": {},
   "outputs": [],
   "source": [
    "import matplotlib.pyplot as plt\n",
    "import matplotlib.ticker as mticker\n",
    "\n",
    "population = pd.DataFrame(get_wb_data(\n",
    "    'country/indicator/SP.POP.TOTL',\n",
    "    {\n",
    "        'per_page': '10000',\n",
    "        'date': '2000:2025'\n",
    "    }\n",
    "))\n",
    "\n",
    "# adding iso2code in the data frame\n",
    "population['countryiso2code'] = population['country'].apply(lambda x: x['id'])\n",
    "\n",
    "# removing uneccessary columns\n",
    "population = population.drop(columns=['indicator', 'country'])\n",
    "\n",
    "ph_population = population[population['countryiso2code'] == 'PH'].sort_values('date')\n",
    "\n",
    "fig, ax = plt.subplots()\n",
    "ax.plot(ph_population['date'], ph_population['value'],  marker='o', linestyle='-', linewidth=2, markersize=4, color='#1f77b4')\n",
    "\n",
    "ax.yaxis.set_major_formatter(mticker.FuncFormatter(lambda x, _: f'{int(x):,}'))\n",
    "\n",
    "plt.xticks(rotation=45, fontsize=12, ha='right')  \n",
    "plt.yticks(fontsize=12)\n",
    "\n",
    "# Grid for readability\n",
    "ax.grid(True, linestyle='--', alpha=0.6)\n",
    "\n",
    "# # Add Title & Labels with Styling\n",
    "ax.set_title('PH population 2000 - 2023', fontsize=14, fontweight='bold', color='#333')\n",
    "ax.set_xlabel('Year', fontsize=12, fontweight='bold', color='#555', labelpad=0.4)\n",
    "ax.set_ylabel('Population', fontsize=12, fontweight='bold', color='#555')\n",
    "\n",
    "\n",
    "\n",
    "plt.show()"
   ]
  }
 ],
 "metadata": {
  "kernelspec": {
   "display_name": "env",
   "language": "python",
   "name": "env"
  },
  "language_info": {
   "codemirror_mode": {
    "name": "ipython",
    "version": 3
   },
   "file_extension": ".py",
   "mimetype": "text/x-python",
   "name": "python",
   "nbconvert_exporter": "python",
   "pygments_lexer": "ipython3",
   "version": "3.10.12"
  }
 },
 "nbformat": 4,
 "nbformat_minor": 2
}
