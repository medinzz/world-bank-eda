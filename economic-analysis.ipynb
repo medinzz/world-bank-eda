{
 "cells": [
  {
   "cell_type": "markdown",
   "metadata": {},
   "source": [
    "Simple ETL process for getting data from world bank"
   ]
  },
  {
   "cell_type": "code",
   "execution_count": 2,
   "metadata": {},
   "outputs": [],
   "source": [
    "# Defining required libraries and variables\n",
    "import requests \n",
    "import pandas as pd\n",
    "\n",
    "from pandas_gbq import to_gbq\n",
    "\n",
    "project_id = 'complete-trees-452014-g4'\n",
    "dataset_id = 'world_bank'\n",
    "base_url = 'https://api.worldbank.org/v2/'\n",
    "\n",
    "def get_wb_data(endpoint, params={}):\n",
    "    url = base_url + endpoint\n",
    "    parameters = params | {'format': 'json'} # Extend the parameters to keep response in json format\n",
    "\n",
    "    response = requests.get(url, parameters)\n",
    "\n",
    "    if response.status_code == 200:\n",
    "        data = response.json()\n",
    "    else:\n",
    "        return response\n",
    "    return data[1]"
   ]
  },
  {
   "cell_type": "code",
   "execution_count": null,
   "metadata": {},
   "outputs": [],
   "source": [
    "# EXTRACT: getting countries data\n",
    "countries = pd.DataFrame(get_wb_data(\n",
    "    endpoint='country', \n",
    "    params={'per_page': '1000'}\n",
    "))\n",
    "\n",
    "# TRANSFORM: transforming column names\n",
    "countries.columns = countries.columns.str.lower()\n",
    "\n",
    "#LOAD: load the data into bigquery table\n",
    "table_id = 'countries' # Table name\n",
    "to_gbq(countries, f'{dataset_id}.{table_id}', project_id=project_id, if_exists='replace')\n"
   ]
  },
  {
   "cell_type": "code",
   "execution_count": 96,
   "metadata": {},
   "outputs": [],
   "source": [
    "# EXTRACT\n",
    "indicators = pd.DataFrame(get_wb_data(\n",
    "    'country/indicator/NY.GDP.MKTP.CD;FP.CPI.TOTL.ZG;SL.UEM.TOTL.ZS',\n",
    "    {\n",
    "        'source': '2',\n",
    "        'date': '2000:2025',\n",
    "        'per_page': '20000'\n",
    "    }\n",
    "))\n"
   ]
  },
  {
   "cell_type": "code",
   "execution_count": null,
   "metadata": {},
   "outputs": [
    {
     "ename": "NameError",
     "evalue": "name 'indicators' is not defined",
     "output_type": "error",
     "traceback": [
      "\u001b[31m---------------------------------------------------------------------------\u001b[39m",
      "\u001b[31mNameError\u001b[39m                                 Traceback (most recent call last)",
      "\u001b[36mCell\u001b[39m\u001b[36m \u001b[39m\u001b[32mIn[1]\u001b[39m\u001b[32m, line 2\u001b[39m\n\u001b[32m      1\u001b[39m \u001b[38;5;66;03m# TRANSFORM\u001b[39;00m\n\u001b[32m----> \u001b[39m\u001b[32m2\u001b[39m indicators[\u001b[33m'\u001b[39m\u001b[33mcountryiso2code\u001b[39m\u001b[33m'\u001b[39m] = \u001b[43mindicators\u001b[49m[\u001b[33m'\u001b[39m\u001b[33mcountry\u001b[39m\u001b[33m'\u001b[39m].apply(\u001b[38;5;28;01mlambda\u001b[39;00m x: x[\u001b[33m'\u001b[39m\u001b[33mid\u001b[39m\u001b[33m'\u001b[39m])\n\u001b[32m      4\u001b[39m indicators_expanded = indicators[\u001b[33m'\u001b[39m\u001b[33mindicator\u001b[39m\u001b[33m'\u001b[39m].apply(pd.Series)\n\u001b[32m      5\u001b[39m indicators_expanded = indicators_expanded.add_prefix(\u001b[33m'\u001b[39m\u001b[33mindicator_\u001b[39m\u001b[33m'\u001b[39m)\n",
      "\u001b[31mNameError\u001b[39m: name 'indicators' is not defined"
     ]
    }
   ],
   "source": [
    "# TRANSFORM\n",
    "indicators['countryiso2code'] = indicators['country'].apply(lambda x: x['id'])\n",
    "\n",
    "indicators_expanded = indicators['indicator'].apply(pd.Series)\n",
    "indicators_expanded = indicators_expanded.add_prefix('indicator_')\n",
    "indicators = pd.concat([indicators, indicators_expanded]).drop(columns=['indicator', 'country'])\n",
    "\n",
    "# TODO: \n",
    "# - address issue on subsetting the indicator values for inflation, gdp, and unemployment \n",
    "# - combine it into single dataset so that you can have different values.\n",
    "\n",
    "# Getting important numbers\n",
    "inflation = indicators[indicators['indicator_id'] == 'FP.CPI.TOTL.ZG']\n",
    "gdp = indicators[indicators['indicator_id'] == 'NY.GDP.MKTP.CD']\n",
    "unemployment_rate = indicators[indicators['indicator_id'] == 'SL.UEM.TOTL.ZS']\n",
    "\n"
   ]
  },
  {
   "cell_type": "code",
   "execution_count": null,
   "metadata": {},
   "outputs": [
    {
     "name": "stdout",
     "output_type": "stream",
     "text": [
      "<bound method NDFrame.describe of       countryiso3code date  value unit obs_status  decimal scale  \\\n",
      "6384              NaN  NaN    NaN  NaN        NaN      NaN   NaN   \n",
      "6385              NaN  NaN    NaN  NaN        NaN      NaN   NaN   \n",
      "6386              NaN  NaN    NaN  NaN        NaN      NaN   NaN   \n",
      "6387              NaN  NaN    NaN  NaN        NaN      NaN   NaN   \n",
      "6388              NaN  NaN    NaN  NaN        NaN      NaN   NaN   \n",
      "...               ...  ...    ...  ...        ...      ...   ...   \n",
      "12763             NaN  NaN    NaN  NaN        NaN      NaN   NaN   \n",
      "12764             NaN  NaN    NaN  NaN        NaN      NaN   NaN   \n",
      "12765             NaN  NaN    NaN  NaN        NaN      NaN   NaN   \n",
      "12766             NaN  NaN    NaN  NaN        NaN      NaN   NaN   \n",
      "12767             NaN  NaN    NaN  NaN        NaN      NaN   NaN   \n",
      "\n",
      "      countryiso2code    indicator_id                        indicator_value  \n",
      "6384              NaN  FP.CPI.TOTL.ZG  Inflation, consumer prices (annual %)  \n",
      "6385              NaN  FP.CPI.TOTL.ZG  Inflation, consumer prices (annual %)  \n",
      "6386              NaN  FP.CPI.TOTL.ZG  Inflation, consumer prices (annual %)  \n",
      "6387              NaN  FP.CPI.TOTL.ZG  Inflation, consumer prices (annual %)  \n",
      "6388              NaN  FP.CPI.TOTL.ZG  Inflation, consumer prices (annual %)  \n",
      "...               ...             ...                                    ...  \n",
      "12763             NaN  FP.CPI.TOTL.ZG  Inflation, consumer prices (annual %)  \n",
      "12764             NaN  FP.CPI.TOTL.ZG  Inflation, consumer prices (annual %)  \n",
      "12765             NaN  FP.CPI.TOTL.ZG  Inflation, consumer prices (annual %)  \n",
      "12766             NaN  FP.CPI.TOTL.ZG  Inflation, consumer prices (annual %)  \n",
      "12767             NaN  FP.CPI.TOTL.ZG  Inflation, consumer prices (annual %)  \n",
      "\n",
      "[6384 rows x 10 columns]>\n"
     ]
    }
   ],
   "source": [
    "\n",
    "print(inflation.describe)"
   ]
  },
  {
   "cell_type": "code",
   "execution_count": null,
   "metadata": {},
   "outputs": [],
   "source": [
    "import matplotlib.pyplot as plt\n",
    "import matplotlib.ticker as mticker\n",
    "\n",
    "population = pd.DataFrame(get_wb_data(\n",
    "    'country/indicator/SP.POP.TOTL',\n",
    "    {\n",
    "        'per_page': '10000',\n",
    "        'date': '2000:2025'\n",
    "    }\n",
    "))\n",
    "\n",
    "# adding iso2code in the data frame\n",
    "population['countryiso2code'] = population['country'].apply(lambda x: x['id'])\n",
    "\n",
    "# removing uneccessary columns\n",
    "population = population.drop(columns=['indicator', 'country'])\n",
    "\n",
    "ph_population = population[population['countryiso2code'] == 'PH'].sort_values('date')\n",
    "\n",
    "fig, ax = plt.subplots()\n",
    "ax.plot(ph_population['date'], ph_population['value'],  marker='o', linestyle='-', linewidth=2, markersize=4, color='#1f77b4')\n",
    "\n",
    "ax.yaxis.set_major_formatter(mticker.FuncFormatter(lambda x, _: f'{int(x):,}'))\n",
    "\n",
    "plt.xticks(rotation=45, fontsize=12, ha='right')  \n",
    "plt.yticks(fontsize=12)\n",
    "\n",
    "# Grid for readability\n",
    "ax.grid(True, linestyle='--', alpha=0.6)\n",
    "\n",
    "# # Add Title & Labels with Styling\n",
    "ax.set_title('PH population 2000 - 2023', fontsize=14, fontweight='bold', color='#333')\n",
    "ax.set_xlabel('Year', fontsize=12, fontweight='bold', color='#555', labelpad=0.4)\n",
    "ax.set_ylabel('Population', fontsize=12, fontweight='bold', color='#555')\n",
    "\n",
    "\n",
    "\n",
    "plt.show()"
   ]
  }
 ],
 "metadata": {
  "kernelspec": {
   "display_name": "Python 3",
   "language": "python",
   "name": "python3"
  },
  "language_info": {
   "codemirror_mode": {
    "name": "ipython",
    "version": 3
   },
   "file_extension": ".py",
   "mimetype": "text/x-python",
   "name": "python",
   "nbconvert_exporter": "python",
   "pygments_lexer": "ipython3",
   "version": "3.12.1"
  }
 },
 "nbformat": 4,
 "nbformat_minor": 2
}
